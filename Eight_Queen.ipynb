{
 "cells": [
  {
   "cell_type": "markdown",
   "id": "b2d7ff5f",
   "metadata": {},
   "source": [
    "# 生成初始状态"
   ]
  },
  {
   "cell_type": "code",
   "execution_count": 1,
   "id": "1690ad0b",
   "metadata": {},
   "outputs": [],
   "source": [
    "import random\n",
    "import time\n",
    "import math\n",
    "f = open(\"eightQueensTest.txt\", \"w\")\n",
    "testCaseCount = 200\n",
    "board = \"\"\n",
    "while testCaseCount > 0:\n",
    "    testCaseCount -= 1\n",
    "    for col in range(0,7):\n",
    "        board += str(random.randint(0,7)) + ' '\n",
    "    board += str(random.randint(0,7)) + '\\n'\n",
    "f.write(board)\n",
    "f.close()"
   ]
  },
  {
   "cell_type": "markdown",
   "id": "6d2d4991",
   "metadata": {},
   "source": [
    "计算启发式代价"
   ]
  },
  {
   "cell_type": "code",
   "execution_count": 2,
   "id": "2c4dca8d",
   "metadata": {},
   "outputs": [],
   "source": [
    "def getCollisionNum(board):\n",
    "    num = 0\n",
    "    for col in range(len(board)):\n",
    "        for anotherCol in range(col+1, len(board)):\n",
    "            if board[col] == board[anotherCol]:\n",
    "                num += 1 # collied in the same row\n",
    "            elif abs(board[col] - board[anotherCol]) == (anotherCol - col):\n",
    "                num += 1 # collied diagonally\n",
    "    return num"
   ]
  },
  {
   "cell_type": "markdown",
   "id": "7fabebd0",
   "metadata": {},
   "source": [
    "# 求解方法"
   ]
  },
  {
   "cell_type": "markdown",
   "id": "663062a0",
   "metadata": {},
   "source": [
    "## 最陡爬山\n",
    "移动到启发式代价最小的位置"
   ]
  },
  {
   "cell_type": "code",
   "execution_count": 3,
   "id": "aebd61c5",
   "metadata": {},
   "outputs": [],
   "source": [
    "def step_steepestHillClimbing(board):\n",
    "    collisionNumBoard = {}  # 字典，存储各个位置的代价\n",
    "    smallestCollisionNum = getCollisionNum(board) - 1  # 改成 getCollisionNum(board) - 1 即可寻找更优解\n",
    "    for col in range(len(board)):\n",
    "        for row in range(len(board)):\n",
    "            if board[col] == row:  # 每列的其他行\n",
    "                continue\n",
    "            originRow = board[col]  # 原来的行数\n",
    "            board[col] = row  # 移位后的状态\n",
    "            collisionNumBoard[(row, col)] = getCollisionNum(board)\n",
    "            board[col] = originRow\n",
    "        \n",
    "    for point, value in collisionNumBoard.items():  # 找到最小代价\n",
    "        if value < smallestCollisionNum:\n",
    "            smallestCollisionNum = value\n",
    "\n",
    "    smallestCollisionPoints = []\n",
    "    for point, value in collisionNumBoard.items(): # 找出对应位置\n",
    "        if value == smallestCollisionNum:\n",
    "            smallestCollisionPoints.append(point)\n",
    "\n",
    "    # 找不到更小或相同的代价\n",
    "    if len(smallestCollisionPoints) == 0:\n",
    "        global FAILED\n",
    "        FAILED = True\n",
    "        return board\n",
    "\n",
    "    # 随机取代价最小的位置\n",
    "    random.shuffle(smallestCollisionPoints)  \n",
    "    board[smallestCollisionPoints[0][1]] = smallestCollisionPoints[0][0]\n",
    "    return board\n",
    "\n",
    "\n",
    "def solution_steepestHillClimbing(board):\n",
    "    global FAILED\n",
    "    maxRound = 200  # 代价相同，至多迭代100次，防止死循环\n",
    "    count = 0\n",
    "    while True:\n",
    "        collisionNum = getCollisionNum(board)\n",
    "        if collisionNum == 0:\n",
    "            return board\n",
    "        board = step_steepestHillClimbing(board)\n",
    "        count += 1\n",
    "        if FAILED:\n",
    "            return board\n",
    "        if (count >= maxRound):\n",
    "            \n",
    "            FAILED = True\n",
    "            return board"
   ]
  },
  {
   "cell_type": "markdown",
   "id": "d8d25ec9",
   "metadata": {},
   "source": [
    "## 首选爬山\n",
    "随机生成下一个状态，只要不变好就转移"
   ]
  },
  {
   "cell_type": "code",
   "execution_count": 4,
   "id": "43c7bd03",
   "metadata": {},
   "outputs": [],
   "source": [
    "def step_FirstChoiceHillClimbing(board):\n",
    "    collisionNum = getCollisionNum(board)\n",
    "    maxRound = 500 # the expected number to find a better choice\n",
    "    count = 0\n",
    "    while True:\n",
    "        count += 1\n",
    "        if(count >= maxRound):\n",
    "            global FAILED\n",
    "            FAILED = True\n",
    "            return board\n",
    "        randomRow = random.randint(0,len(board)-1)\n",
    "        randomCol = random.randint(0,len(board)-1)\n",
    "        if board[randomCol] == randomRow:\n",
    "            continue\n",
    "        originRow = board[randomCol]\n",
    "        board[randomCol] = randomRow\n",
    "        if getCollisionNum(board) < collisionNum: # not worse than 如果要找到更好，改成 <\n",
    "            return board\n",
    "        board[randomCol] = originRow\n",
    "        \n",
    "\n",
    "def solution_FirstChoiceHillClimbing(board):\n",
    "    maxRound = 200 # the expected number to find a solution\n",
    "    count = 0\n",
    "    while True:\n",
    "        collisionNum = getCollisionNum(board)\n",
    "        if collisionNum == 0:\n",
    "            return board\n",
    "        board = step_FirstChoiceHillClimbing(board)\n",
    "        global FAILED\n",
    "        if FAILED:\n",
    "            return board\n",
    "        count += 1\n",
    "        if(count >= maxRound):\n",
    "            FAILED = True\n",
    "            return board"
   ]
  },
  {
   "cell_type": "markdown",
   "id": "9c51f957",
   "metadata": {},
   "source": [
    "## 随机重启爬山\n",
    "使用最陡爬山法，若找不到解，就生成一组新的初始状态。采用递归实现，递归结束条件：重启超过50轮，或者达到目标状态。"
   ]
  },
  {
   "cell_type": "code",
   "execution_count": 5,
   "id": "c096bc0f",
   "metadata": {},
   "outputs": [],
   "source": [
    "global restart_cnt\n",
    "restart_cnt = 0\n",
    "def solution_RandomHillClimbing(board):\n",
    "    global restart_cnt\n",
    "    global FAILED\n",
    "    if restart_cnt > 50:  # 最多重启50轮\n",
    "        FAILED = True\n",
    "        return board\n",
    "    board = solution_steepestHillClimbing(board)\n",
    "    if FAILED:  # 失败则重启\n",
    "        FAILED = False  # 一定要重置 FAILED 标志！\n",
    "        restart_cnt += 1\n",
    "        for col in range(0,7):\n",
    "            board[col] = random.randint(0,7)\n",
    "        # 再次搜索（递归）\n",
    "        board = solution_RandomHillClimbing(board)\n",
    "    return board"
   ]
  },
  {
   "cell_type": "markdown",
   "id": "b282c520",
   "metadata": {},
   "source": [
    "## 模拟退火\n",
    "以概率$e^{-\\frac{\\Delta E}{T}}$ 接受更差的状态。\n",
    "温度越低，接受更差状态的概率越小。"
   ]
  },
  {
   "cell_type": "code",
   "execution_count": 6,
   "id": "5575ffd5",
   "metadata": {
    "hide_input": false
   },
   "outputs": [],
   "source": [
    "def solution_SimulatedAnnealing(board):\n",
    "    temperature = 10  # 初温\n",
    "    annealingRate = 0.80  # 降温速度\n",
    "    stop_temprature = 0.0002  # temperature * annealingRate ** 50  # 停止温度\n",
    "    maxRound = 100  # 每个温度循环次数\n",
    "    \n",
    "    while temperature > stop_temprature:\n",
    "        for i in range(maxRound):\n",
    "            randomRow = random.randint(0,len(board)-1)\n",
    "            randomCol = random.randint(0,len(board)-1)\n",
    "            if board[randomCol] == randomRow:\n",
    "                continue\n",
    "            originCollisionNum = getCollisionNum(board)\n",
    "            originRow = board[randomCol]\n",
    "            board[randomCol] = randomRow\n",
    "            newCollisionNum = getCollisionNum(board)\n",
    "            if newCollisionNum == 0:\n",
    "                return board\n",
    "           # 如果更差了，以一定概率拒绝\n",
    "            if newCollisionNum > originCollisionNum:  \n",
    "                if random.random() > math.exp(-(newCollisionNum - originCollisionNum) / temperature):  \n",
    "                    board[randomCol] = originRow\n",
    "                    \n",
    "        temperature = temperature * annealingRate\n",
    "    global FAILED\n",
    "    FAILED = True\n",
    "    return board"
   ]
  },
  {
   "cell_type": "markdown",
   "id": "bc6d67a9",
   "metadata": {},
   "source": [
    "# 求解结果"
   ]
  },
  {
   "cell_type": "code",
   "execution_count": 7,
   "id": "5ac87231",
   "metadata": {
    "hide_input": false
   },
   "outputs": [],
   "source": [
    "def test(method):\n",
    "    startTime = time.perf_counter()\n",
    "    successCase = 0\n",
    "    totalCase = 0\n",
    "    result = \"EightQueens\" + method + \" result:\\n\\n\"\n",
    "    with open(\"eightQueensTest.txt\", \"r\") as ins:\n",
    "        for line in ins:\n",
    "            global FAILED\n",
    "            FAILED = False\n",
    "            global restart_cnt\n",
    "            restart_cnt = 0\n",
    "            totalCase += 1\n",
    "            board = []\n",
    "            for col in line.split():\n",
    "                board.append(int(col))\n",
    "            if method == 'SteepestHillClimbing':\n",
    "                board = solution_steepestHillClimbing(board)\n",
    "            elif method == 'FirstChoiceHillClimbing':\n",
    "                board = solution_FirstChoiceHillClimbing(board)\n",
    "            elif method == 'RandomHillClimbing':\n",
    "                board = solution_RandomHillClimbing(board)\n",
    "            else:\n",
    "                board = solution_SimulatedAnnealing(board)\n",
    "            if FAILED:\n",
    "                result += \"Failed!\"\n",
    "            else:\n",
    "                successCase += 1\n",
    "                for col in range(len(board)):\n",
    "                    result += str(board[col]) + \" \"\n",
    "            result += \"\\n\"\n",
    "\n",
    "        endTime = time.perf_counter()\n",
    "        performance = \"EightQueens-\" + method +':\\n'\n",
    "        performance += \"Total time: \" + str(endTime - startTime) + '\\n'\n",
    "        performance += \"Total case number: \" + str(totalCase) + \", Success case number: \" + str(successCase) + '\\n'\n",
    "        performance += \"Success rate: \" + str(successCase / float(totalCase)) + '\\n'\n",
    "        f = open('EightQueens_ '+method+ '.txt', 'w')\n",
    "        f.write(result)\n",
    "        f.write(performance)\n",
    "        f.close()\n",
    "        print(performance)\n",
    "        return[endTime - startTime, successCase / float(totalCase)]"
   ]
  },
  {
   "cell_type": "markdown",
   "id": "ab3f6d26",
   "metadata": {},
   "source": [
    "测试"
   ]
  },
  {
   "cell_type": "code",
   "execution_count": 8,
   "id": "7b35355b",
   "metadata": {
    "scrolled": true
   },
   "outputs": [
    {
     "name": "stdout",
     "output_type": "stream",
     "text": [
      "EightQueens-SteepestHillClimbing:\n",
      "Total time: 0.6628098000000007\n",
      "Total case number: 200, Success case number: 31\n",
      "Success rate: 0.155\n",
      "\n",
      "EightQueens-FirstChoiceHillClimbing:\n",
      "Total time: 1.6056638999999997\n",
      "Total case number: 200, Success case number: 29\n",
      "Success rate: 0.145\n",
      "\n",
      "EightQueens-RandomHillClimbing:\n",
      "Total time: 4.1095761\n",
      "Total case number: 200, Success case number: 200\n",
      "Success rate: 1.0\n",
      "\n",
      "EightQueens-SimulatedAnnealing:\n",
      "Total time: 6.677182800000001\n",
      "Total case number: 200, Success case number: 197\n",
      "Success rate: 0.985\n",
      "\n"
     ]
    }
   ],
   "source": [
    "[t1, a1] = test('SteepestHillClimbing')\n",
    "[t2, a2] = test('FirstChoiceHillClimbing')\n",
    "[t3, a3] = test('RandomHillClimbing')\n",
    "[t4, a4] = test('SimulatedAnnealing')"
   ]
  },
  {
   "cell_type": "markdown",
   "id": "d6f9467a",
   "metadata": {},
   "source": [
    "## 不同方法性能比较\n",
    "- 最陡爬升法求出解的理论概率为0.14\n",
    "- 随机重启法比最陡爬升法的时间多了七倍\n",
    "- 在计算时间足够长的情况下，随机重启法以概率1得到最优解\n",
    "- 模拟退火算法用时最长，不一定能得到最优解"
   ]
  },
  {
   "cell_type": "code",
   "execution_count": 9,
   "id": "ffc12f7d",
   "metadata": {
    "hide_input": false
   },
   "outputs": [
    {
     "data": {
      "image/png": "[encoded data removed]",
      "text/plain": [
       "<Figure size 1600x1200 with 2 Axes>"
      ]
     },
     "metadata": {
      "needs_background": "light"
     },
     "output_type": "display_data"
    }
   ],
   "source": [
    "import numpy as np\n",
    "import matplotlib.pyplot as plt\n",
    "import matplotlib\n",
    "matplotlib.rcParams['font.family'] = 'STSong'\n",
    "matplotlib.rcParams['font.size'] = 10\n",
    "plt.rcParams['figure.dpi'] = 200\n",
    "t = np.array((round(t1,3), round(t2,3), round(t3,3), round(t4,3)))\n",
    "s = np.array((round(a1,3), round(a2,3), round(a3,3), round(a4,3)))\n",
    "\n",
    "ind = np.arange(len(t))  # the x locations for the groups\n",
    "width = 0.35  # the width of the bars\n",
    "\n",
    "fig, ax = plt.subplots(figsize=(8,6))\n",
    "rects1 = ax.bar(ind - width/2, t, width, color='SkyBlue', label = 'time consume')\n",
    "par2 = ax.twinx()\n",
    "rects2 = par2.bar(ind + width/2, s, width, color='Pink', label = 'solving rate')\n",
    "\n",
    "\n",
    "# Add some text for labels, title and custom x-axis tick labels, etc.\n",
    "ax.set_ylabel('time/s')\n",
    "ax.set_title('Performances')\n",
    "ax.set_xticks(ind)\n",
    "ax.set_xticklabels(('SteepestHillClimbing', 'FirstChoiceHillClimbing', 'RandomHillClimbing', 'SimulatedAnnealing'))\n",
    "ax.legend()\n",
    "par2.set_ylabel('Solving Rate')\n",
    "par2.legend(bbox_to_anchor=(0.6,0.998))\n",
    "def autolabel(rects, xpos='center'):\n",
    "    \"\"\"\n",
    "    Attach a text label above each bar in *rects*, displaying its height.\n",
    "\n",
    "    *xpos* indicates which side to place the text w.r.t. the center of\n",
    "    the bar. It can be one of the following {'center', 'right', 'left'}.\n",
    "    \"\"\"\n",
    "\n",
    "    xpos = xpos.lower()  # normalize the case of the parameter\n",
    "    ha = {'center': 'center', 'right': 'left', 'left': 'right'}\n",
    "    offset = {'center': 0.5, 'right': 0.57, 'left': 0.43}  # x_txt = x + w*off\n",
    "\n",
    "    for rect in rects:\n",
    "        height = rect.get_height()\n",
    "        ax.text(rect.get_x() + rect.get_width()*offset[xpos], 1.01*height,\n",
    "                '{}'.format(height), ha=ha[xpos], va='bottom')\n",
    "        \n",
    "autolabel(rects1, \"left\")\n",
    "\n",
    "plt.show()"
   ]
  },
  {
   "cell_type": "markdown",
   "id": "9be63f3c",
   "metadata": {},
   "source": [
    "## 模拟退火超参数探究\n",
    "控制变量，比较超参数的作用\n",
    "\n",
    "|maxRound|$\\alpha$|求解时间|解决率|\n",
    "|---|---|---|---|\n",
    "|100|0.95| 23.8|0.995 |\n",
    "|100|0.90| 14.9|0.995 |\n",
    "|100|0.80| 9.8|0.965| \n",
    "|20|0.80|7.4|0.91|\n",
    "|500|0.80|27.9 |1.0 |"
   ]
  },
  {
   "cell_type": "code",
   "execution_count": null,
   "id": "9b95ce97",
   "metadata": {},
   "outputs": [],
   "source": []
  }
 ],
 "metadata": {
  "hide_input": false,
  "kernelspec": {
   "display_name": "Python [conda env:tensorflow] *",
   "language": "python",
   "name": "conda-env-tensorflow-py"
  },
  "language_info": {
   "codemirror_mode": {
    "name": "ipython",
    "version": 3
   },
   "file_extension": ".py",
   "mimetype": "text/x-python",
   "name": "python",
   "nbconvert_exporter": "python",
   "pygments_lexer": "ipython3",
   "version": "3.8.5"
  },
  "toc": {
   "base_numbering": 1,
   "nav_menu": {},
   "number_sections": true,
   "sideBar": true,
   "skip_h1_title": false,
   "title_cell": "Table of Contents",
   "title_sidebar": "Contents",
   "toc_cell": false,
   "toc_position": {
    "height": "calc(100% - 180px)",
    "left": "10px",
    "top": "150px",
    "width": "280.654px"
   },
   "toc_section_display": true,
   "toc_window_display": true
  }
 },
 "nbformat": 4,
 "nbformat_minor": 5
}
